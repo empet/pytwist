{
 "cells": [
  {
   "cell_type": "markdown",
   "metadata": {},
   "source": [
    "## <center>Python Generators in Numerical Study of Discrete Dynamical Systems</center>"
   ]
  },
  {
   "cell_type": "markdown",
   "metadata": {},
   "source": [
    "In this IPython Notebook we present generators as an excelent tool provided by Python for computational mathematics in general, and for the numerical study of \n",
    "discrete dynamical systems in particular. "
   ]
  },
  {
   "cell_type": "markdown",
   "metadata": {},
   "source": [
    "Generators functions form a special class of functions. In order to understand objects that are returned by these functions we recall  a few details about iterable objects and   iterators in Python.\n",
    "\n"
   ]
  },
  {
   "cell_type": "markdown",
   "metadata": {},
   "source": [
    "A container in Python  is an object that contains other objects (example of containers are lists, tuples, strings, files, etc).  \n",
    "\n",
    "A container, `Cont`, is  iterable if it is allowed to run over its items \n",
    "with a <tt>for</tt> statement:\n",
    "<pre>\n",
    "for item in  Cont:\n",
    "    print(item)\n",
    "</pre>\n",
    "The lists, strings and tuples are iterable objects.  Dictionaries and files are also iterable."
   ]
  },
  {
   "cell_type": "markdown",
   "metadata": {},
   "source": [
    "Iteration is the process of accessing and returning  one item  at a time from a container."
   ]
  },
  {
   "cell_type": "markdown",
   "metadata": {},
   "source": [
    "Examples:"
   ]
  },
  {
   "cell_type": "code",
   "execution_count": 107,
   "metadata": {},
   "outputs": [],
   "source": [
    "from __future__ import print_function"
   ]
  },
  {
   "cell_type": "code",
   "execution_count": 108,
   "metadata": {},
   "outputs": [
    {
     "name": "stdout",
     "output_type": "stream",
     "text": [
      "2\n",
      "5\n",
      "1\n"
     ]
    }
   ],
   "source": [
    "L=[2, 5, 1]#list\n",
    "for k in L:\n",
    "    print(k)"
   ]
  },
  {
   "cell_type": "code",
   "execution_count": 109,
   "metadata": {},
   "outputs": [
    {
     "name": "stdout",
     "output_type": "stream",
     "text": [
      "s\n",
      "t\n",
      "r\n",
      "i\n",
      "n\n",
      "g\n"
     ]
    }
   ],
   "source": [
    "S=\"string\"\n",
    "for c in S:\n",
    "   print(c)\n"
   ]
  },
  {
   "cell_type": "code",
   "execution_count": 110,
   "metadata": {},
   "outputs": [
    {
     "name": "stdout",
     "output_type": "stream",
     "text": [
      "4\n",
      "9\n",
      "7\n"
     ]
    }
   ],
   "source": [
    "T=(4, 9, 7)#tuple\n",
    "for t in T:\n",
    "    print(t)"
   ]
  },
  {
   "cell_type": "markdown",
   "metadata": {},
   "source": [
    "The iteration over a dictionary  `d` returns the keys:"
   ]
  },
  {
   "cell_type": "code",
   "execution_count": 111,
   "metadata": {},
   "outputs": [
    {
     "name": "stdout",
     "output_type": "stream",
     "text": [
      "lst\n",
      "nr\n",
      "today\n"
     ]
    }
   ],
   "source": [
    "d={'lst': [4,7,1], 'today': 'monday', 'nr': 10}\n",
    "\n",
    "for item in d:\n",
    "    print(item)"
   ]
  },
  {
   "cell_type": "markdown",
   "metadata": {},
   "source": [
    "An iteration over a file object returns the file's lines:"
   ]
  },
  {
   "cell_type": "code",
   "execution_count": 112,
   "metadata": {},
   "outputs": [
    {
     "name": "stdout",
     "output_type": "stream",
     "text": [
      "this is the first line\n",
      "\n",
      "second line\n",
      "\n",
      "final line\n",
      "\n"
     ]
    }
   ],
   "source": [
    "f=open(\"toyfile.txt\")# f is a file object i.e.  a container for the file's lines \n",
    "for line in f:\n",
    "    print(line)"
   ]
  },
  {
   "cell_type": "markdown",
   "metadata": {},
   "source": [
    "The above examples are built-in iterable objects  in Python. \n"
   ]
  },
  {
   "cell_type": "markdown",
   "metadata": {},
   "source": [
    "### Iterators"
   ]
  },
  {
   "cell_type": "markdown",
   "metadata": {},
   "source": [
    " Intuitively, an iterator is an object that produces a stream of items,  according to a prescribed protocol.  \n",
    "\n",
    "From the programming language point of view an  iterator is an object of a class that has the methods `__iter__`, and `__next__`. By the  iterator protocol these methods act as follows:\n",
    "\n",
    "The `__iter__` method returns the iterator object itself, and the `__next__` method returns the next item of the stream.\n",
    "\n"
   ]
  },
  {
   "cell_type": "markdown",
   "metadata": {},
   "source": [
    "How does a container, that is an iterable object, relate with an iterator?\n",
    "\n",
    "The built-in function `iter` takes  a container and returns an iterator."
   ]
  },
  {
   "cell_type": "markdown",
   "metadata": {},
   "source": [
    "In all the above examples,  `for item in Cont` launches the iterator protocol.\n",
    " The `for` statement calls `iter()` on the container object. \n",
    "\n",
    "  -  `iter(Cont)` is an iterator object and by calling  the `next()` method \n",
    "    are accessed the  container's items, one at a time. \n",
    "\n",
    "  - When there are no more items, `next()`\n",
    "    raises a `StopIteration` exception,  which  forces the `for` loop to terminate.\n",
    "   "
   ]
  },
  {
   "cell_type": "markdown",
   "metadata": {},
   "source": [
    "Let us explicitly call `iter()` on the list, L,  and file object f, defined above:\n"
   ]
  },
  {
   "cell_type": "code",
   "execution_count": 113,
   "metadata": {},
   "outputs": [
    {
     "name": "stdout",
     "output_type": "stream",
     "text": [
      "2 5 1\n"
     ]
    }
   ],
   "source": [
    "itL=iter(L)\n",
    "print (itL.next(), itL.next(), itL.next())"
   ]
  },
  {
   "cell_type": "code",
   "execution_count": 114,
   "metadata": {},
   "outputs": [
    {
     "ename": "StopIteration",
     "evalue": "",
     "output_type": "error",
     "traceback": [
      "\u001b[1;31m---------------------------------------------------------------------------\u001b[0m\n\u001b[1;31mStopIteration\u001b[0m                             Traceback (most recent call last)",
      "\u001b[1;32m<ipython-input-114-6e3b9f371c5b>\u001b[0m in \u001b[0;36m<module>\u001b[1;34m()\u001b[0m\n\u001b[0;32m      1\u001b[0m \u001b[0mItf\u001b[0m\u001b[1;33m=\u001b[0m\u001b[0miter\u001b[0m\u001b[1;33m(\u001b[0m\u001b[0mf\u001b[0m\u001b[1;33m)\u001b[0m\u001b[1;31m#iterator associated  to the file object f\u001b[0m\u001b[1;33m\u001b[0m\u001b[0m\n\u001b[0;32m      2\u001b[0m \u001b[1;33m\u001b[0m\u001b[0m\n\u001b[1;32m----> 3\u001b[1;33m \u001b[1;32mprint\u001b[0m \u001b[1;33m(\u001b[0m\u001b[0mItf\u001b[0m\u001b[1;33m.\u001b[0m\u001b[0mnext\u001b[0m\u001b[1;33m(\u001b[0m\u001b[1;33m)\u001b[0m\u001b[1;33m)\u001b[0m\u001b[1;33m\u001b[0m\u001b[0m\n\u001b[0m",
      "\u001b[1;31mStopIteration\u001b[0m: "
     ]
    }
   ],
   "source": [
    "Itf=iter(f)#iterator associated  to the file object f\n",
    "\n",
    "print (Itf.next())"
   ]
  },
  {
   "cell_type": "markdown",
   "metadata": {},
   "source": [
    "We notice that  calling three times the next() method for the iterator associated to the list, L,\n",
    " all three  items are successively returned, while a single call `Itf.next()`  for the iterator associated to the file object, raises the `StopIteration`\n",
    "exception. This means that the stream of lines was exhausted when we called `for line in f`, and no \n",
    " line can be accessed again.\n",
    "\n",
    "\n",
    "If we reopen the file its lines are also accessible:\n"
   ]
  },
  {
   "cell_type": "code",
   "execution_count": 115,
   "metadata": {},
   "outputs": [
    {
     "name": "stdout",
     "output_type": "stream",
     "text": [
      "this is the first line\n",
      "\n",
      "second line\n",
      "\n",
      "final line\n",
      "\n"
     ]
    }
   ],
   "source": [
    "itf=iter(open('toyfile.txt'))\n",
    "for _ in xrange(3):\n",
    "    print(itf.next())\n"
   ]
  },
  {
   "cell_type": "markdown",
   "metadata": {},
   "source": [
    "Hence the  iterators associated to built-in containers can exhibit  different behaviours. While the lists can be iterated as many times as we want, a file can be iterated only once."
   ]
  },
  {
   "cell_type": "markdown",
   "metadata": {},
   "source": [
    "The reader can experiment the behavior of the iterators `iter(S)`, `iter(T)`, and `iter(d)`, associated to the string S,\n",
    "tuple, T, and dictionary, d, defined above."
   ]
  },
  {
   "cell_type": "markdown",
   "metadata": {},
   "source": [
    "We conclude that:"
   ]
  },
  {
   "cell_type": "markdown",
   "metadata": {},
   "source": [
    "Iterables are objects that define an iterator when they are passed to the `iter()` built-in function."
   ]
  },
  {
   "cell_type": "markdown",
   "metadata": {},
   "source": [
    "### Generators"
   ]
  },
  {
   "cell_type": "markdown",
   "metadata": {},
   "source": [
    "Generators functions provide a  powerful tool for creating iterators."
   ]
  },
  {
   "cell_type": "markdown",
   "metadata": {},
   "source": [
    "A generator function is defined as any function in Python using `def`.\n",
    "\n",
    "A function is a generator function if it contains one or more  <tt> yield </tt>  statements within its body."
   ]
  },
  {
   "cell_type": "markdown",
   "metadata": {},
   "source": [
    "The generator function below will generate  the multiple of 3  of positive integer numbers, less than $n$:"
   ]
  },
  {
   "cell_type": "code",
   "execution_count": 116,
   "metadata": {},
   "outputs": [],
   "source": [
    "def gen_mult3(n):\n",
    "    k=0\n",
    "    while (k<n):\n",
    "        yield 3*k\n",
    "        k+=1"
   ]
  },
  {
   "cell_type": "markdown",
   "metadata": {},
   "source": [
    "The first call of the generator function defines a generator, i.e. a  particular iterator object:"
   ]
  },
  {
   "cell_type": "code",
   "execution_count": 117,
   "metadata": {},
   "outputs": [
    {
     "name": "stdout",
     "output_type": "stream",
     "text": [
      "<generator object gen_mult3 at 0x000000000E62B1B0>\n"
     ]
    }
   ],
   "source": [
    "G=gen_mult3(5)\n",
    "print(G)"
   ]
  },
  {
   "cell_type": "markdown",
   "metadata": {},
   "source": [
    "After this call  the numbers 0, 3, 6, 9, 12 are not yet generated as we could expect."
   ]
  },
  {
   "cell_type": "markdown",
   "metadata": {},
   "source": [
    "Iterating the generator G (which is an iterator), by calling successively `G.next()`,\n",
    " these numbers are produced one at atime, and at the sixth call a `StopIteration` exception is raised because the generator exhausted:"
   ]
  },
  {
   "cell_type": "code",
   "execution_count": 118,
   "metadata": {},
   "outputs": [
    {
     "name": "stdout",
     "output_type": "stream",
     "text": [
      "0\n",
      "3\n",
      "6\n",
      "9\n",
      "12\n"
     ]
    },
    {
     "ename": "StopIteration",
     "evalue": "",
     "output_type": "error",
     "traceback": [
      "\u001b[1;31m---------------------------------------------------------------------------\u001b[0m\n\u001b[1;31mStopIteration\u001b[0m                             Traceback (most recent call last)",
      "\u001b[1;32m<ipython-input-118-d3d7dfa40120>\u001b[0m in \u001b[0;36m<module>\u001b[1;34m()\u001b[0m\n\u001b[0;32m      1\u001b[0m \u001b[1;32mfor\u001b[0m \u001b[0m_\u001b[0m \u001b[1;32min\u001b[0m \u001b[0mrange\u001b[0m\u001b[1;33m(\u001b[0m\u001b[1;36m6\u001b[0m\u001b[1;33m)\u001b[0m\u001b[1;33m:\u001b[0m\u001b[1;33m\u001b[0m\u001b[0m\n\u001b[1;32m----> 2\u001b[1;33m     \u001b[1;32mprint\u001b[0m\u001b[1;33m(\u001b[0m \u001b[0mG\u001b[0m\u001b[1;33m.\u001b[0m\u001b[0mnext\u001b[0m\u001b[1;33m(\u001b[0m\u001b[1;33m)\u001b[0m \u001b[1;33m)\u001b[0m\u001b[1;33m\u001b[0m\u001b[0m\n\u001b[0m",
      "\u001b[1;31mStopIteration\u001b[0m: "
     ]
    }
   ],
   "source": [
    "for _ in range(6):\n",
    "    print( G.next() )"
   ]
  },
  {
   "cell_type": "markdown",
   "metadata": {},
   "source": [
    "A generator makes a lazy evaluation, meaning that  it yields a value (an object) only  on demand\n",
    "(when it is needed)."
   ]
  },
  {
   "cell_type": "markdown",
   "metadata": {},
   "source": [
    "In order to understand the difference between a Python generator function and a regular function, we recall how behaves\n",
    "a regular function that contains at least  a <tt>return </tt> statement. \n",
    "\n",
    "At each call of a regular function a private namespace is associated. \n",
    "When a  return line is reached in execution,  the local variables are destroyed\n",
    "and the computed object (value) is returned.\n",
    "\n"
   ]
  },
  {
   "cell_type": "markdown",
   "metadata": {},
   "source": [
    "In the case of a generator, after each  yielded value (with `yield`) the function freezes, i.e. \n",
    "     stops its execution. When it is called again, it resumes its execution at the point where it stopped (it \"remembers\"  the last yielded value, and the last executed  statement)."
   ]
  },
  {
   "cell_type": "markdown",
   "metadata": {},
   "source": [
    "To illustrate this behaviour, we insert a few  `print` lines in the definition of the generator function above:"
   ]
  },
  {
   "cell_type": "code",
   "execution_count": 119,
   "metadata": {},
   "outputs": [],
   "source": [
    "def Gen_mult3(n):\n",
    "    print( ' this is the first line of the generator function' )\n",
    "    k=0\n",
    "    while (k<n):\n",
    "        print ( 'line before yield' )\n",
    "        yield 3*k\n",
    "        print ( 'line after yield' )\n",
    "        k+=1\n",
    "    print( 'this is the last line of the generator function')    "
   ]
  },
  {
   "cell_type": "markdown",
   "metadata": {},
   "source": [
    "Define the generator:"
   ]
  },
  {
   "cell_type": "code",
   "execution_count": 125,
   "metadata": {},
   "outputs": [],
   "source": [
    "gen=Gen_mult3(3)"
   ]
  },
  {
   "cell_type": "markdown",
   "metadata": {},
   "source": [
    "Running the above cell no string was printed. Hence at the first call the generator  is only created  and no line of the function's body is executed."
   ]
  },
  {
   "cell_type": "markdown",
   "metadata": {},
   "source": [
    "Now we iterate the generator `gen`:"
   ]
  },
  {
   "cell_type": "code",
   "execution_count": 126,
   "metadata": {},
   "outputs": [
    {
     "name": "stdout",
     "output_type": "stream",
     "text": [
      " this is the first line of the generator function\n",
      "line before yield\n",
      "0\n"
     ]
    }
   ],
   "source": [
    "print (gen.next())"
   ]
  },
  {
   "cell_type": "code",
   "execution_count": 127,
   "metadata": {},
   "outputs": [
    {
     "name": "stdout",
     "output_type": "stream",
     "text": [
      "line after yield\n",
      "line before yield\n",
      "3\n"
     ]
    }
   ],
   "source": [
    "print (gen.next())"
   ]
  },
  {
   "cell_type": "code",
   "execution_count": 128,
   "metadata": {},
   "outputs": [
    {
     "name": "stdout",
     "output_type": "stream",
     "text": [
      "line after yield\n",
      "line before yield\n",
      "6\n"
     ]
    }
   ],
   "source": [
    "print (gen.next())"
   ]
  },
  {
   "cell_type": "code",
   "execution_count": 129,
   "metadata": {},
   "outputs": [
    {
     "name": "stdout",
     "output_type": "stream",
     "text": [
      "line after yield\n",
      "this is the last line of the generator function\n"
     ]
    },
    {
     "ename": "StopIteration",
     "evalue": "",
     "output_type": "error",
     "traceback": [
      "\u001b[1;31m---------------------------------------------------------------------------\u001b[0m\n\u001b[1;31mStopIteration\u001b[0m                             Traceback (most recent call last)",
      "\u001b[1;32m<ipython-input-129-1a3c5c9fbf3d>\u001b[0m in \u001b[0;36m<module>\u001b[1;34m()\u001b[0m\n\u001b[1;32m----> 1\u001b[1;33m \u001b[1;32mprint\u001b[0m\u001b[1;33m(\u001b[0m\u001b[0mgen\u001b[0m\u001b[1;33m.\u001b[0m\u001b[0mnext\u001b[0m\u001b[1;33m(\u001b[0m\u001b[1;33m)\u001b[0m\u001b[1;33m)\u001b[0m\u001b[1;33m\u001b[0m\u001b[0m\n\u001b[0m",
      "\u001b[1;31mStopIteration\u001b[0m: "
     ]
    }
   ],
   "source": [
    "print(gen.next())"
   ]
  },
  {
   "cell_type": "markdown",
   "metadata": {},
   "source": [
    "Note that Python generators do not give  access to previously generated items,\n",
    "unless the user  explicitly stored them in some container  (for example in  a list).\n",
    "\n",
    "If we want to iterate again over data produced by a  generator  we  have to\n",
    "re-call the generator function, i.e to re-define the generator."
   ]
  },
  {
   "cell_type": "markdown",
   "metadata": {},
   "source": [
    "Here is an example of storing the generated values in a list:"
   ]
  },
  {
   "cell_type": "code",
   "execution_count": 130,
   "metadata": {},
   "outputs": [
    {
     "name": "stdout",
     "output_type": "stream",
     "text": [
      "[0, 3, 6, 9, 12, 15]\n"
     ]
    }
   ],
   "source": [
    "ge=gen_mult3(6)\n",
    "L=[ge.next() for _ in xrange(6)]\n",
    "print(L)"
   ]
  },
  {
   "cell_type": "markdown",
   "metadata": {},
   "source": [
    "A built-in generator is `xrange`.  While `range(start, stop, step)` returns a list:"
   ]
  },
  {
   "cell_type": "code",
   "execution_count": 131,
   "metadata": {},
   "outputs": [
    {
     "name": "stdout",
     "output_type": "stream",
     "text": [
      "<type 'list'> [0, 1, 2, 3, 4, 5, 6, 7, 8, 9]\n"
     ]
    }
   ],
   "source": [
    "print(type(range(10)), range(10))"
   ]
  },
  {
   "cell_type": "markdown",
   "metadata": {},
   "source": [
    "`xrange(start, stop, step)` is a generator function, which could  have an implementation like this:\n",
    "     "
   ]
  },
  {
   "cell_type": "code",
   "execution_count": 132,
   "metadata": {},
   "outputs": [],
   "source": [
    "def my_xrange(stop, start=0, step=1):\n",
    "    while start < stop:\n",
    "        yield start\n",
    "        start += step "
   ]
  },
  {
   "cell_type": "markdown",
   "metadata": {},
   "source": [
    "When `stop` is a large integer  (for example `stop=100000`),  calling `for _ in range(stop)` leads to the creation of a large list, while\n",
    "`for _ in xrange(stop)` will produce an index `k`, `k<stop`, one at a time, and no storing is performed."
   ]
  },
  {
   "cell_type": "markdown",
   "metadata": {},
   "source": [
    "### Python generators in Computational Mathematics"
   ]
  },
  {
   "cell_type": "markdown",
   "metadata": {},
   "source": [
    "Generators allow  to deal with infinite streams of \"mathematical objects\"."
   ]
  },
  {
   "cell_type": "markdown",
   "metadata": {},
   "source": [
    "For example, a sequence of real or complex numbers is an infinite mathematical object.\n",
    "\n",
    "Let $a_n=\\left(1+\\displaystyle\\frac{1}{n}\\right)^n$, $n\\geq 1$, be the sequence that is known as being convergent to the  number e.\n",
    "\n",
    "Its terms can be generated by the folowing generator function:"
   ]
  },
  {
   "cell_type": "code",
   "execution_count": 133,
   "metadata": {},
   "outputs": [],
   "source": [
    "def genseq_e():\n",
    "   n=1\n",
    "   while True:\n",
    "      a=(1.0+1.0/n)**n\n",
    "      yield a\n",
    "      n+=1\n",
    "      "
   ]
  },
  {
   "cell_type": "markdown",
   "metadata": {},
   "source": [
    "Suppose  we want to see how far is $a_{1000}$ from the sequence's limit, $e$.  To generate $a_{1000}$ we simply can\n",
    "iterate the generator `G=genseq_e()`:"
   ]
  },
  {
   "cell_type": "code",
   "execution_count": 208,
   "metadata": {},
   "outputs": [],
   "source": [
    "G=genseq_e()\n",
    "for _ in range(1, 1000):\n",
    "    G.next()  \n",
    "    # the last generated value is a999\n",
    "a1000=G.next()    "
   ]
  },
  {
   "cell_type": "code",
   "execution_count": 135,
   "metadata": {},
   "outputs": [],
   "source": [
    "import math"
   ]
  },
  {
   "cell_type": "code",
   "execution_count": 136,
   "metadata": {},
   "outputs": [
    {
     "name": "stdout",
     "output_type": "stream",
     "text": [
      "2.71692393224 2.71828182846 0.00135789622345\n"
     ]
    }
   ],
   "source": [
    "print ( a1000, math.exp(1), math.fabs(a1000-math.exp(1.0)) )"
   ]
  },
  {
   "cell_type": "markdown",
   "metadata": {},
   "source": [
    "A more elegant solution is to  slice the infinite generator, using `itertools.islice`\n",
    " [https://docs.python.org/2/library/itertools.html](https://docs.python.org/2/library/itertools.html).\n",
    "\n",
    "`itertools` is a  Python module that contains functions for creating iterators. In particular it allows \n",
    " to work  effectively with generators.\n",
    "\n",
    "\n",
    "When a generator `G` is iterated, the values returned by `G.next()` are counted like the items in any Python sequence.\n",
    "\n",
    "The slice\n",
    "<center> `itertools.islice(generator, start, stop, step )`,  </center>\n",
    "    \n",
    " (where `start`, `stop`, and `step` have the same significance as  for the built-in generator\n",
    "`xrange(start, stop, step)`),\n",
    "is an iterator that produces the generator values (objects) counted from index equal to `start`.\n",
    "\n",
    "The iterator `itertools.islice(generator, n)`    is supposed to have  `start=0`, `stop=n`, and  `step=1`.                                                           "
   ]
  },
  {
   "cell_type": "markdown",
   "metadata": {},
   "source": [
    "Hence to get the term $a_{1000}$ of the sequence $a_n$, we proceed as follows:"
   ]
  },
  {
   "cell_type": "code",
   "execution_count": 137,
   "metadata": {},
   "outputs": [],
   "source": [
    "from itertools import islice"
   ]
  },
  {
   "cell_type": "code",
   "execution_count": 138,
   "metadata": {},
   "outputs": [
    {
     "name": "stdout",
     "output_type": "stream",
     "text": [
      "2.71692393224 2.71828182846 0.00135789622345\n"
     ]
    }
   ],
   "source": [
    "gg=genseq_e()\n",
    "a1000=islice(gg, 999, 1000).next()\n",
    "print ( a1000, math.exp(1), math.fabs(a1000-math.exp(1.0)) )"
   ]
  },
  {
   "cell_type": "markdown",
   "metadata": {},
   "source": [
    "Python generators can be defined in many contexts of the Computational Math, but here we show how they can be defined and manipulated to study a discrete dynamical system.\n",
    "\n",
    "In this [IPython Notebook](http://nbviewer.ipython.org/github/empet/Math/blob/master/Winding-Number.ipynb) we defined a  generator to animate \n",
    "the motion of a point on a closed curve."
   ]
  },
  {
   "cell_type": "markdown",
   "metadata": {},
   "source": [
    "### Python generators in the  study of discrete dynamical systems"
   ]
  },
  {
   "cell_type": "markdown",
   "metadata": {},
   "source": [
    "A discrete dynamical system on the space $\\mathbb{R}^m$,  is defined usually by a one-to-one\n",
    "differentiable map $f:\\mathbb{R}^m\\to\\mathbb{R}^m$. If $x_0\\in\\mathbb{R}^m$ is the initial state, its orbit or trajectory  is the sequence  $(x_n)_{n\\in\\mathbb{N}}$,  $x_n=f^n(x_0)$, where $f^n$, $n\\geq 1$,  is the $n^{th}$ iterate of the map.\n",
    "\n",
    "The goal of the dynamical system theory is to understand the asymptotic behaviour of  systems' orbits.\n",
    "\n",
    "In the case of a two-dimensional dynamical system we can plot a set of orbits, and the visual representation we get is called  the *phase portrait* of that system."
   ]
  },
  {
   "cell_type": "markdown",
   "metadata": {},
   "source": [
    "In order to illustrate the asymptotic behaviour of an orbit or to draw the phase portrait of a two-dimensional dynamical system, it is very useful to define a generator\n",
    "for an orbit.\n",
    "\n",
    "The generator will produce one point at a time or if it is  necessary, we can take a slice in the infinite generator and store its points in a `list` or a `numpy.array`."
   ]
  },
  {
   "cell_type": "markdown",
   "metadata": {},
   "source": [
    "Experimenting with generator functions that generate points on an orbit,   we deduced that there is a trick in the process of  creation of a list of points resulted by iterating a  slice in that generator.\n",
    "\n",
    "To illustrate how we were lead to that trick  we define a generator of an orbit  for a version of the [H&eacute;non map](http://en.wikipedia.org/wiki/H%C3%A9non_map): \n",
    "\n",
    "$$(x,y)\\mapsto(y, 1-1.4 y^2+0.3x)$$\n",
    "\n"
   ]
  },
  {
   "cell_type": "code",
   "execution_count": 173,
   "metadata": {},
   "outputs": [],
   "source": [
    "def gen_Henon(pt0):#pt0 is the initial point given as 2-list\n",
    "    if not isinstance(pt0, list):\n",
    "        raise ValueError(\"pt0 must be a list\")\n",
    "    pt=pt0[:]#shallow copy of pt0; \n",
    "    while True:\n",
    "        yield pt\n",
    "        tmp=pt[0]\n",
    "        pt[0]=pt[1]\n",
    "        pt[1]=1-1.4*pt[1]**2+0.3*tmp\n",
    "    "
   ]
  },
  {
   "cell_type": "code",
   "execution_count": 174,
   "metadata": {},
   "outputs": [],
   "source": [
    "pt0=[0.0, 0.0]\n",
    "G=gen_Henon(pt0)"
   ]
  },
  {
   "cell_type": "markdown",
   "metadata": {},
   "source": [
    "Let us iterate a   slice in this generator:"
   ]
  },
  {
   "cell_type": "code",
   "execution_count": 175,
   "metadata": {},
   "outputs": [
    {
     "name": "stdout",
     "output_type": "stream",
     "text": [
      "[-0.7408864000000001, 0.554322279213056]\n",
      "[0.554322279213056, 0.3475516150752599]\n",
      "[0.3475516150752599, 0.9971877085659265]\n"
     ]
    }
   ],
   "source": [
    "for pt in islice(G, 5, 8):\n",
    "    print (pt)"
   ]
  },
  {
   "cell_type": "markdown",
   "metadata": {},
   "source": [
    "Usually to plot an orbit of some length we store  its points  in a list, and plot it with a single call of `plt.scatter`, instead of plotting one point at a time as it is generated.\n",
    "\n",
    "Trying to store the above three points in a list created by comprehension, we notice that the list\n",
    "contains only the last point, displayed three times:"
   ]
  },
  {
   "cell_type": "code",
   "execution_count": 176,
   "metadata": {},
   "outputs": [
    {
     "name": "stdout",
     "output_type": "stream",
     "text": [
      "[[0.3475516150752599, 0.9971877085659265], [0.3475516150752599, 0.9971877085659265], [0.3475516150752599, 0.9971877085659265]]\n"
     ]
    }
   ],
   "source": [
    "G=gen_Henon(pt0)# to reiterate the slice we have to call the generator function again\n",
    "L1=[pt for pt in  islice(G, 5, 8)]\n",
    "print(L1)"
   ]
  },
  {
   "cell_type": "markdown",
   "metadata": {},
   "source": [
    "Another attempt that fails:"
   ]
  },
  {
   "cell_type": "code",
   "execution_count": 177,
   "metadata": {},
   "outputs": [
    {
     "name": "stdout",
     "output_type": "stream",
     "text": [
      "[[1.179660509719045, -1.0363734689401003], [1.179660509719045, -1.0363734689401003], [1.179660509719045, -1.0363734689401003]]\n"
     ]
    }
   ],
   "source": [
    "G=gen_Henon(pt0)\n",
    "L2=[islice(G, 5, 8).next() for _ in range(3)]\n",
    "print(L2)"
   ]
  },
  {
   "cell_type": "markdown",
   "metadata": {},
   "source": [
    "Why does the iteration work well when we only iterate the generator, but it fails when trying to create a list from items resulted from the iteration?"
   ]
  },
  {
   "cell_type": "markdown",
   "metadata": {},
   "source": [
    "The same drawback is manifested when we define the generator function with the argument\n",
    " `pt0`  given as a `numpy.array`,\n",
    "and replace the line `pt=pt0[:]` with `pt=pt0.copy()`."
   ]
  },
  {
   "cell_type": "markdown",
   "metadata": {},
   "source": [
    "After  trial and error experimentation we got  a correct list of items   in the following way:"
   ]
  },
  {
   "cell_type": "code",
   "execution_count": 178,
   "metadata": {},
   "outputs": [
    {
     "name": "stdout",
     "output_type": "stream",
     "text": [
      "[[-0.7408864000000001, 0.554322279213056], [0.554322279213056, 0.3475516150752599], [0.3475516150752599, 0.9971877085659265]]\n"
     ]
    }
   ],
   "source": [
    "pt0=[0.0, 0.0]\n",
    "G=gen_Henon(pt0)\n",
    "L3=[list(pt) for pt in islice(G, 5, 8)]\n",
    "print(L3)"
   ]
  },
  {
   "cell_type": "markdown",
   "metadata": {},
   "source": [
    "This behaviour is really strange, because each `pt` was a list object and this conversion appears\n",
    "to be redundant."
   ]
  },
  {
   "cell_type": "markdown",
   "metadata": {},
   "source": [
    "A similar good result we get converting each `pt` to a `numpy.array`:"
   ]
  },
  {
   "cell_type": "code",
   "execution_count": 179,
   "metadata": {},
   "outputs": [],
   "source": [
    "import numpy as np"
   ]
  },
  {
   "cell_type": "code",
   "execution_count": 180,
   "metadata": {},
   "outputs": [
    {
     "name": "stdout",
     "output_type": "stream",
     "text": [
      "[array([-0.7408864 ,  0.55432228]), array([ 0.55432228,  0.34755162]), array([ 0.34755162,  0.99718771])]\n"
     ]
    }
   ],
   "source": [
    "G=gen_Henon(pt0)\n",
    "L4=[np.array(pt) for pt in islice(G, 5, 8)]\n",
    "print(L4)"
   ]
  },
  {
   "cell_type": "markdown",
   "metadata": {},
   "source": [
    "A third solution is to explicitly set the type of the object to be  yielded by the generator:"
   ]
  },
  {
   "cell_type": "code",
   "execution_count": 181,
   "metadata": {},
   "outputs": [],
   "source": [
    "def gen_Henon_new(pt0):\n",
    "    if not isinstance(pt0, list):\n",
    "        raise ValueError(\"pt0 must be a list\")\n",
    "    pt=pt0[:]#shallow copy of pt0; \n",
    "    while True:\n",
    "        yield pt\n",
    "        tmp=pt[0]\n",
    "        pt=[pt[1], 1-1.4*pt[1]**2+0.3*tmp]#pt is explicitly set as list\n",
    "       \n",
    "    "
   ]
  },
  {
   "cell_type": "code",
   "execution_count": 182,
   "metadata": {},
   "outputs": [
    {
     "name": "stdout",
     "output_type": "stream",
     "text": [
      "[[-0.7408864000000001, 0.554322279213056], [0.554322279213056, 0.3475516150752599], [0.3475516150752599, 0.9971877085659265]]\n"
     ]
    }
   ],
   "source": [
    "G=gen_Henon_new(pt0)\n",
    "L5=[pt for pt in islice(G, 5,8)]\n",
    "print (L5)"
   ]
  },
  {
   "cell_type": "markdown",
   "metadata": {},
   "source": [
    "We note that when the yielded object  is explicitly set as list, no conversion is needed when we create the list of \n",
    " items resulted from the iteration."
   ]
  },
  {
   "cell_type": "markdown",
   "metadata": {},
   "source": [
    "Let us check this observed particularity for another generator."
   ]
  },
  {
   "cell_type": "markdown",
   "metadata": {},
   "source": [
    "Namely, we define the generator of pairs of consecutive terms in [Fibonacci sequence](http://en.wikipedia.org/wiki/Fibonacci_number): "
   ]
  },
  {
   "cell_type": "code",
   "execution_count": 183,
   "metadata": {},
   "outputs": [],
   "source": [
    "def pair_fibonacci(a=1, b=1):\n",
    "    while True:\n",
    "        yield (a,b)# the yielded object is explicitly set as a tuple\n",
    "        a, b = b, a+b\n"
   ]
  },
  {
   "cell_type": "code",
   "execution_count": 184,
   "metadata": {},
   "outputs": [
    {
     "name": "stdout",
     "output_type": "stream",
     "text": [
      "[(1, 2), (2, 3), (3, 5), (5, 8), (8, 13), (13, 21), (21, 34), (34, 55), (55, 89), (89, 144), (144, 233), (233, 377), (377, 610), (610, 987)]\n"
     ]
    }
   ],
   "source": [
    "genp=pair_fibonacci()\n",
    "L=[pair for pair in islice(genp, 1,15)]\n",
    "print (L)"
   ]
  },
  {
   "cell_type": "markdown",
   "metadata": {},
   "source": [
    "The sequence of pairs $(p_n, q_n)$,   $p_1=1, q_1=2$,  produced by this generator, defines the  convergents, \n",
    "$p_n/q_n$, of the continued fraction expansion of the inverse $1/\\phi$ for the [golden ratio](http://mathworld.wolfram.com/GoldenRatio.html)\n",
    "$\\phi=(1+\\sqrt{5})/2$.\n",
    "\n",
    "In the study of [dynamics of twist maps](http://amath.colorado.edu/pub/dynamics/papers/Raglan2011_pt2.pdf), these pairs represent the rotation numbers\n",
    "of the periodic orbits, converging to the invariant 1-dimensional torus (or cantorus) having the rotation number,\n",
    "$1/\\phi$."
   ]
  },
  {
   "cell_type": "markdown",
   "metadata": {},
   "source": [
    "Now we illustrate the phase portrait of the [standard map](http://www.scholarpedia.org/article/Chirikov_standard_map) whose orbits are generated by a generator function."
   ]
  },
  {
   "cell_type": "markdown",
   "metadata": {},
   "source": [
    " The standard  map, $f$, is defined on the infinite annulus $\\mathbb{S}^1\\times \\mathbb{R}$.\n",
    "$\\mathbb{S}^1=\\mathbb{R}/\\mathbb{Z}$ is the unit circle identified with the interval $[0,1)$ or any other real \n",
    "                                                                  interval of length 1.\n",
    "                                                                \n",
    "$f$ maps $(x,y)$ to $(x', y')$, where:\n",
    "\n",
    "$$ \\begin{align}\n",
    "x'&= x+y'\\: (modulo\\: 1)\\\\\n",
    "y'&= y-\\displaystyle\\frac{\\epsilon}{2\\pi}\\sin(2\\pi x), \\quad \\epsilon\\in\\mathbb{R}\n",
    "\\end{align}$$\n",
    "\n"
   ]
  },
  {
   "cell_type": "code",
   "execution_count": 185,
   "metadata": {},
   "outputs": [],
   "source": [
    "import matplotlib.pyplot as plt"
   ]
  },
  {
   "cell_type": "code",
   "execution_count": 186,
   "metadata": {},
   "outputs": [],
   "source": [
    "def moduloAB(x, a, b):\n",
    "        if a>=b:\n",
    "           raise ValueError('Incorrect interval ends')\n",
    "        y=(x-a)%(b-a)\n",
    "        if y<0: return y+b\n",
    "        else: return y+a\n",
    "        "
   ]
  },
  {
   "cell_type": "code",
   "execution_count": 187,
   "metadata": {},
   "outputs": [],
   "source": [
    "def stdmap(pt):\n",
    "    global eps\n",
    "    pt[1]-=eps*np.sin(2*np.pi*pt[0])/(2.0*np.pi)\n",
    "    pt[0]=moduloAB(pt[0]+pt[1], -0.5, 0.5)\n",
    "    return pt"
   ]
  },
  {
   "cell_type": "markdown",
   "metadata": {},
   "source": [
    "We define an orbit generator, and a function that returns a `numpy.array` containing the points of an orbit:"
   ]
  },
  {
   "cell_type": "code",
   "execution_count": 188,
   "metadata": {},
   "outputs": [],
   "source": [
    "def gen_stdmap(pt0) :\n",
    "    if not isinstance(pt0, list):\n",
    "        raise ValueError(\"pt0 must be a list\")\n",
    "    pt=pt0[:]\n",
    "    while True:\n",
    "        yield pt\n",
    "        pt=stdmap(pt)# here pt is not explicitly defined as a list"
   ]
  },
  {
   "cell_type": "code",
   "execution_count": 189,
   "metadata": {},
   "outputs": [],
   "source": [
    "def orbit_stdmap(pt0, n):\n",
    "    G=gen_stdmap(pt0)\n",
    "    return np.array([list(G.next()) for _ in xrange(n)]) #conversion   list(G.next())  is needed for\n",
    "                                                         # a right iteration"
   ]
  },
  {
   "cell_type": "markdown",
   "metadata": {},
   "source": [
    "Let us check first that the function `orbit_stdmap` works correctly:"
   ]
  },
  {
   "cell_type": "code",
   "execution_count": 190,
   "metadata": {},
   "outputs": [
    {
     "name": "stdout",
     "output_type": "stream",
     "text": [
      "[[ 0.          0.57      ]\n",
      " [-0.43        0.57      ]\n",
      " [ 0.20584273  0.63584273]\n",
      " [-0.30704121  0.48711606]]\n"
     ]
    }
   ],
   "source": [
    "eps= 0.971635#  define the global parameter for the standard map\n",
    "pt0=[0, 0.57]\n",
    "A=orbit_stdmap(pt0, 10)\n",
    "print(A[:4])"
   ]
  },
  {
   "cell_type": "markdown",
   "metadata": {},
   "source": [
    "In the sequel  we plot interactively a few orbits of the standard map, corresponding to the fixed parameter $\\epsilon$.\n",
    "Each orbit is colored with a color from a list of colors that is  cyclically iterated.\n",
    "\n",
    "If we set the  new matplotlib backend `nbagg`:\n",
    "\n",
    "`%matplotlib nbagg`  \n",
    "\n",
    "the phase portrait (i.e. the resulted figure) is inserted inline."
   ]
  },
  {
   "cell_type": "code",
   "execution_count": 191,
   "metadata": {},
   "outputs": [],
   "source": [
    "from itertools import cycle"
   ]
  },
  {
   "cell_type": "code",
   "execution_count": 192,
   "metadata": {},
   "outputs": [],
   "source": [
    "cols=['#084594', '#2171b5', '#4292c6', '#6baed6', '#9ecae1', '#c6dbef']#brewer colors\n",
    "colors=cycle(cols)# colors= cyclic iterator"
   ]
  },
  {
   "cell_type": "markdown",
   "metadata": {},
   "source": [
    "The initial point of each orbit is chosen with a   left mouse button click  within the pop-up window\n",
    "that opens when running the cell below. \n",
    "\n",
    "When we have drawn a sufficient number of orbits such that \n",
    "the structure of the phase portrait is evident, \n",
    " we    press the right button of the mouse and  run the next cell.\n"
   ]
  },
  {
   "cell_type": "code",
   "execution_count": 193,
   "metadata": {},
   "outputs": [],
   "source": [
    "%matplotlib nbagg"
   ]
  },
  {
   "cell_type": "code",
   "execution_count": 195,
   "metadata": {},
   "outputs": [
    {
     "data": {
      "application/javascript": [
       "/* Put everything inside the global mpl namespace */\n",
       "window.mpl = {};\n",
       "\n",
       "mpl.get_websocket_type = function() {\n",
       "    if (typeof(WebSocket) !== 'undefined') {\n",
       "        return WebSocket;\n",
       "    } else if (typeof(MozWebSocket) !== 'undefined') {\n",
       "        return MozWebSocket;\n",
       "    } else {\n",
       "        alert('Your browser does not have WebSocket support.' +\n",
       "              'Please try Chrome, Safari or Firefox ≥ 6. ' +\n",
       "              'Firefox 4 and 5 are also supported but you ' +\n",
       "              'have to enable WebSockets in about:config.');\n",
       "    };\n",
       "}\n",
       "\n",
       "mpl.figure = function(figure_id, websocket, ondownload, parent_element) {\n",
       "    this.id = figure_id;\n",
       "\n",
       "    this.ws = websocket;\n",
       "\n",
       "    this.supports_binary = (this.ws.binaryType != undefined);\n",
       "\n",
       "    if (!this.supports_binary) {\n",
       "        var warnings = document.getElementById(\"mpl-warnings\");\n",
       "        if (warnings) {\n",
       "            warnings.style.display = 'block';\n",
       "            warnings.textContent = (\n",
       "                \"This browser does not support binary websocket messages. \" +\n",
       "                    \"Performance may be slow.\");\n",
       "        }\n",
       "    }\n",
       "\n",
       "    this.imageObj = new Image();\n",
       "\n",
       "    this.context = undefined;\n",
       "    this.message = undefined;\n",
       "    this.canvas = undefined;\n",
       "    this.rubberband_canvas = undefined;\n",
       "    this.rubberband_context = undefined;\n",
       "    this.format_dropdown = undefined;\n",
       "\n",
       "    this.focus_on_mousover = false;\n",
       "    this.image_mode = 'full';\n",
       "\n",
       "    this.root = $('<div/>');\n",
       "    this.root.attr('style', 'display: inline-block');\n",
       "    $(parent_element).append(this.root);\n",
       "\n",
       "    this._init_header(this);\n",
       "    this._init_canvas(this);\n",
       "    this._init_toolbar(this);\n",
       "\n",
       "    var fig = this;\n",
       "\n",
       "    this.waiting = false;\n",
       "\n",
       "    this.ws.onopen =  function () {\n",
       "            fig.send_message(\"supports_binary\", {value: fig.supports_binary});\n",
       "            fig.send_message(\"send_image_mode\", {});\n",
       "            fig.send_message(\"refresh\", {});\n",
       "        }\n",
       "\n",
       "    this.imageObj.onload = function() {\n",
       "            if (fig.image_mode == 'full') {\n",
       "                // Full images could contain transparency (where diff images\n",
       "                // almost always do), so we need to clear the canvas so that\n",
       "                // there is no ghosting.\n",
       "                fig.context.clearRect(0, 0, fig.canvas.width, fig.canvas.height);\n",
       "            }\n",
       "            fig.context.drawImage(fig.imageObj, 0, 0);\n",
       "            fig.waiting = false;\n",
       "        };\n",
       "\n",
       "    this.imageObj.onunload = function() {\n",
       "        this.ws.close();\n",
       "    }\n",
       "\n",
       "    this.ws.onmessage = this._make_on_message_function(this);\n",
       "\n",
       "    this.ondownload = ondownload;\n",
       "}\n",
       "\n",
       "mpl.figure.prototype._init_header = function() {\n",
       "    var titlebar = $(\n",
       "        '<div class=\"ui-dialog-titlebar ui-widget-header ui-corner-all ' +\n",
       "        'ui-helper-clearfix\"/>');\n",
       "    var titletext = $(\n",
       "        '<div class=\"ui-dialog-title\" style=\"width: 100%; ' +\n",
       "        'text-align: center; padding: 3px;\"/>');\n",
       "    titlebar.append(titletext)\n",
       "    this.root.append(titlebar);\n",
       "    this.header = titletext[0];\n",
       "}\n",
       "\n",
       "mpl.figure.prototype._init_canvas = function() {\n",
       "    var fig = this;\n",
       "\n",
       "    var canvas_div = $('<div/>');\n",
       "    canvas_div.resizable({ resize: mpl.debounce_resize(\n",
       "        function(event, ui) { fig.request_resize(ui.size.width, ui.size.height); }\n",
       "        , 50)});\n",
       "\n",
       "    canvas_div.attr('style', 'position: relative; clear: both;');\n",
       "    this.root.append(canvas_div);\n",
       "\n",
       "    var canvas = $('<canvas/>');\n",
       "    canvas.addClass('mpl-canvas');\n",
       "    canvas.attr('style', \"left: 0; top: 0; z-index: 0;\")\n",
       "\n",
       "    function canvas_keyboard_event(event) {\n",
       "        return fig.key_event(event, event['data']);\n",
       "    }\n",
       "\n",
       "    this.canvas = canvas[0];\n",
       "    this.context = canvas[0].getContext(\"2d\");\n",
       "\n",
       "    var rubberband = $('<canvas/>');\n",
       "    rubberband.attr('style', \"position: absolute; left: 0; top: 0; z-index: 1;\")\n",
       "    function mouse_event_fn(event) {\n",
       "        return fig.mouse_event(event, event['data']);\n",
       "    }\n",
       "    rubberband.mousedown('button_press', mouse_event_fn);\n",
       "    rubberband.mouseup('button_release', mouse_event_fn);\n",
       "    // Throttle sequential mouse events to 1 every 20ms.\n",
       "    rubberband.mousemove('motion_notify', mouse_event_fn);\n",
       "\n",
       "    canvas_div.append(canvas);\n",
       "    canvas_div.append(rubberband);\n",
       "\n",
       "    canvas_div.keydown('key_press', canvas_keyboard_event);\n",
       "    canvas_div.keydown('key_release', canvas_keyboard_event);\n",
       "\n",
       "    this.rubberband = rubberband;\n",
       "    this.rubberband_canvas = rubberband[0];\n",
       "    this.rubberband_context = rubberband[0].getContext(\"2d\");\n",
       "    this.rubberband_context.strokeStyle = \"#000000\";\n",
       "\n",
       "    this._resize_canvas = function(width, height) {\n",
       "        // Keep the size of the canvas, canvas container, and rubber band\n",
       "        // canvas in synch.\n",
       "        canvas_div.css('width', width)\n",
       "        canvas_div.css('height', height)\n",
       "\n",
       "        canvas.attr('width', width);\n",
       "        canvas.attr('height', height);\n",
       "\n",
       "        rubberband.attr('width', width);\n",
       "        rubberband.attr('height', height);\n",
       "    }\n",
       "\n",
       "    // Set the figure to an initial 600x600px, this will subsequently be updated\n",
       "    // upon first draw.\n",
       "    this._resize_canvas(600, 600);\n",
       "}\n",
       "\n",
       "mpl.figure.prototype._init_toolbar = function() {\n",
       "    var fig = this;\n",
       "\n",
       "    var nav_element = $('<div/>')\n",
       "    nav_element.attr('style', 'width: 100%');\n",
       "    this.root.append(nav_element);\n",
       "\n",
       "    // Define a callback function for later on.\n",
       "    function toolbar_event(event) {\n",
       "        return fig.toolbar_button_onclick(event['data']);\n",
       "    }\n",
       "    function toolbar_mouse_event(event) {\n",
       "        return fig.toolbar_button_onmouseover(event['data']);\n",
       "    }\n",
       "\n",
       "    for(var toolbar_ind in mpl.toolbar_items){\n",
       "        var name = mpl.toolbar_items[toolbar_ind][0];\n",
       "        var tooltip = mpl.toolbar_items[toolbar_ind][1];\n",
       "        var image = mpl.toolbar_items[toolbar_ind][2];\n",
       "        var method_name = mpl.toolbar_items[toolbar_ind][3];\n",
       "\n",
       "        if (!name) {\n",
       "            // put a spacer in here.\n",
       "            continue;\n",
       "        }\n",
       "        var button = $('<button/>');\n",
       "        button.addClass('ui-button ui-widget ui-state-default ui-corner-all ' +\n",
       "                        'ui-button-icon-only');\n",
       "        button.attr('role', 'button');\n",
       "        button.attr('aria-disabled', 'false');\n",
       "        button.click(method_name, toolbar_event);\n",
       "        button.mouseover(tooltip, toolbar_mouse_event);\n",
       "\n",
       "        var icon_img = $('<span/>');\n",
       "        icon_img.addClass('ui-button-icon-primary ui-icon');\n",
       "        icon_img.addClass(image);\n",
       "        icon_img.addClass('ui-corner-all');\n",
       "\n",
       "        var tooltip_span = $('<span/>');\n",
       "        tooltip_span.addClass('ui-button-text');\n",
       "        tooltip_span.html(tooltip);\n",
       "\n",
       "        button.append(icon_img);\n",
       "        button.append(tooltip_span);\n",
       "\n",
       "        nav_element.append(button);\n",
       "    }\n",
       "\n",
       "    var fmt_picker_span = $('<span/>');\n",
       "\n",
       "    var fmt_picker = $('<select/>');\n",
       "    fmt_picker.addClass('mpl-toolbar-option ui-widget ui-widget-content');\n",
       "    fmt_picker_span.append(fmt_picker);\n",
       "    nav_element.append(fmt_picker_span);\n",
       "    this.format_dropdown = fmt_picker[0];\n",
       "\n",
       "    for (var ind in mpl.extensions) {\n",
       "        var fmt = mpl.extensions[ind];\n",
       "        var option = $(\n",
       "            '<option/>', {selected: fmt === mpl.default_extension}).html(fmt);\n",
       "        fmt_picker.append(option)\n",
       "    }\n",
       "\n",
       "    // Add hover states to the ui-buttons\n",
       "    $( \".ui-button\" ).hover(\n",
       "        function() { $(this).addClass(\"ui-state-hover\");},\n",
       "        function() { $(this).removeClass(\"ui-state-hover\");}\n",
       "    );\n",
       "\n",
       "    var status_bar = $('<span class=\"mpl-message\"/>');\n",
       "    nav_element.append(status_bar);\n",
       "    this.message = status_bar[0];\n",
       "}\n",
       "\n",
       "mpl.figure.prototype.request_resize = function(x_pixels, y_pixels) {\n",
       "    // Request matplotlib to resize the figure. Matplotlib will then trigger a resize in the client,\n",
       "    // which will in turn request a refresh of the image.\n",
       "    this.send_message('resize', {'width': x_pixels, 'height': y_pixels});\n",
       "}\n",
       "\n",
       "mpl.figure.prototype.send_message = function(type, properties) {\n",
       "    properties['type'] = type;\n",
       "    properties['figure_id'] = this.id;\n",
       "    this.ws.send(JSON.stringify(properties));\n",
       "}\n",
       "\n",
       "mpl.figure.prototype.send_draw_message = function() {\n",
       "    if (!this.waiting) {\n",
       "        this.waiting = true;\n",
       "        this.ws.send(JSON.stringify({type: \"draw\", figure_id: this.id}));\n",
       "    }\n",
       "}\n",
       "\n",
       "mpl.figure.prototype.handle_resize = function(fig, msg) {\n",
       "    var size = msg['size'];\n",
       "    if (size[0] != fig.canvas.width || size[1] != fig.canvas.height) {\n",
       "        fig._resize_canvas(size[0], size[1]);\n",
       "        fig.send_message(\"refresh\", {});\n",
       "    };\n",
       "}\n",
       "\n",
       "mpl.figure.prototype.handle_rubberband = function(fig, msg) {\n",
       "    var x0 = msg['x0'];\n",
       "    var y0 = fig.canvas.height - msg['y0'];\n",
       "    var x1 = msg['x1'];\n",
       "    var y1 = fig.canvas.height - msg['y1'];\n",
       "    x0 = Math.floor(x0) + 0.5;\n",
       "    y0 = Math.floor(y0) + 0.5;\n",
       "    x1 = Math.floor(x1) + 0.5;\n",
       "    y1 = Math.floor(y1) + 0.5;\n",
       "    var min_x = Math.min(x0, x1);\n",
       "    var min_y = Math.min(y0, y1);\n",
       "    var width = Math.abs(x1 - x0);\n",
       "    var height = Math.abs(y1 - y0);\n",
       "\n",
       "    fig.rubberband_context.clearRect(\n",
       "        0, 0, fig.canvas.width, fig.canvas.height);\n",
       "\n",
       "    fig.rubberband_context.strokeRect(min_x, min_y, width, height);\n",
       "}\n",
       "\n",
       "mpl.figure.prototype.handle_figure_label = function(fig, msg) {\n",
       "    // Updates the figure title.\n",
       "    fig.header.textContent = msg['label'];\n",
       "}\n",
       "\n",
       "mpl.figure.prototype.handle_cursor = function(fig, msg) {\n",
       "    var cursor = msg['cursor'];\n",
       "    switch(cursor)\n",
       "    {\n",
       "    case 0:\n",
       "        cursor = 'pointer';\n",
       "        break;\n",
       "    case 1:\n",
       "        cursor = 'default';\n",
       "        break;\n",
       "    case 2:\n",
       "        cursor = 'crosshair';\n",
       "        break;\n",
       "    case 3:\n",
       "        cursor = 'move';\n",
       "        break;\n",
       "    }\n",
       "    fig.rubberband_canvas.style.cursor = cursor;\n",
       "}\n",
       "\n",
       "mpl.figure.prototype.handle_message = function(fig, msg) {\n",
       "    fig.message.textContent = msg['message'];\n",
       "}\n",
       "\n",
       "mpl.figure.prototype.handle_draw = function(fig, msg) {\n",
       "    // Request the server to send over a new figure.\n",
       "    fig.send_draw_message();\n",
       "}\n",
       "\n",
       "mpl.figure.prototype.handle_image_mode = function(fig, msg) {\n",
       "    fig.image_mode = msg['mode'];\n",
       "}\n",
       "\n",
       "mpl.figure.prototype.updated_canvas_event = function() {\n",
       "    // Called whenever the canvas gets updated.\n",
       "    this.send_message(\"ack\", {});\n",
       "}\n",
       "\n",
       "// A function to construct a web socket function for onmessage handling.\n",
       "// Called in the figure constructor.\n",
       "mpl.figure.prototype._make_on_message_function = function(fig) {\n",
       "    return function socket_on_message(evt) {\n",
       "        if (evt.data instanceof Blob) {\n",
       "            /* FIXME: We get \"Resource interpreted as Image but\n",
       "             * transferred with MIME type text/plain:\" errors on\n",
       "             * Chrome.  But how to set the MIME type?  It doesn't seem\n",
       "             * to be part of the websocket stream */\n",
       "            evt.data.type = \"image/png\";\n",
       "\n",
       "            /* Free the memory for the previous frames */\n",
       "            if (fig.imageObj.src) {\n",
       "                (window.URL || window.webkitURL).revokeObjectURL(\n",
       "                    fig.imageObj.src);\n",
       "            }\n",
       "\n",
       "            fig.imageObj.src = (window.URL || window.webkitURL).createObjectURL(\n",
       "                evt.data);\n",
       "            fig.updated_canvas_event();\n",
       "            return;\n",
       "        }\n",
       "        else if (typeof evt.data === 'string' && evt.data.slice(0, 21) == \"data:image/png;base64\") {\n",
       "            fig.imageObj.src = evt.data;\n",
       "            fig.updated_canvas_event();\n",
       "            return;\n",
       "        }\n",
       "\n",
       "        var msg = JSON.parse(evt.data);\n",
       "        var msg_type = msg['type'];\n",
       "\n",
       "        // Call the  \"handle_{type}\" callback, which takes\n",
       "        // the figure and JSON message as its only arguments.\n",
       "        try {\n",
       "            var callback = fig[\"handle_\" + msg_type];\n",
       "        } catch (e) {\n",
       "            console.log(\"No handler for the '\" + msg_type + \"' message type: \", msg);\n",
       "            return;\n",
       "        }\n",
       "\n",
       "        if (callback) {\n",
       "            try {\n",
       "                // console.log(\"Handling '\" + msg_type + \"' message: \", msg);\n",
       "                callback(fig, msg);\n",
       "            } catch (e) {\n",
       "                console.log(\"Exception inside the 'handler_\" + msg_type + \"' callback:\", e, e.stack, msg);\n",
       "            }\n",
       "        }\n",
       "    };\n",
       "}\n",
       "\n",
       "// from http://stackoverflow.com/questions/1114465/getting-mouse-location-in-canvas\n",
       "mpl.findpos = function(e) {\n",
       "    //this section is from http://www.quirksmode.org/js/events_properties.html\n",
       "    var targ;\n",
       "    if (!e)\n",
       "        e = window.event;\n",
       "    if (e.target)\n",
       "        targ = e.target;\n",
       "    else if (e.srcElement)\n",
       "        targ = e.srcElement;\n",
       "    if (targ.nodeType == 3) // defeat Safari bug\n",
       "        targ = targ.parentNode;\n",
       "\n",
       "    // jQuery normalizes the pageX and pageY\n",
       "    // pageX,Y are the mouse positions relative to the document\n",
       "    // offset() returns the position of the element relative to the document\n",
       "    var x = e.pageX - $(targ).offset().left;\n",
       "    var y = e.pageY - $(targ).offset().top;\n",
       "\n",
       "    return {\"x\": x, \"y\": y};\n",
       "};\n",
       "\n",
       "mpl.figure.prototype.mouse_event = function(event, name) {\n",
       "    var canvas_pos = mpl.findpos(event)\n",
       "\n",
       "    if (this.focus_on_mouseover && name === 'motion_notify')\n",
       "    {\n",
       "        this.canvas.focus();\n",
       "    }\n",
       "\n",
       "    var x = canvas_pos.x;\n",
       "    var y = canvas_pos.y;\n",
       "\n",
       "    this.send_message(name, {x: x, y: y, button: event.button});\n",
       "\n",
       "    /* This prevents the web browser from automatically changing to\n",
       "     * the text insertion cursor when the button is pressed.  We want\n",
       "     * to control all of the cursor setting manually through the\n",
       "     * 'cursor' event from matplotlib */\n",
       "    event.preventDefault();\n",
       "    return false;\n",
       "}\n",
       "\n",
       "mpl.figure.prototype.key_event = function(event, name) {\n",
       "    /* Don't fire events just when a modifier is changed.  Modifiers are\n",
       "       sent along with other keys. */\n",
       "    if (event.keyCode >= 16 && event.keyCode <= 20) {\n",
       "        return;\n",
       "    }\n",
       "\n",
       "    value = '';\n",
       "    if (event.ctrlKey) {\n",
       "        value += \"ctrl+\";\n",
       "    }\n",
       "    if (event.altKey) {\n",
       "        value += \"alt+\";\n",
       "    }\n",
       "    value += String.fromCharCode(event.keyCode).toLowerCase();\n",
       "\n",
       "    this.send_message(name, {key: value});\n",
       "}\n",
       "\n",
       "mpl.figure.prototype.toolbar_button_onclick = function(name) {\n",
       "    if (name == 'download') {\n",
       "        var format_dropdown = this.format_dropdown;\n",
       "        var format = format_dropdown.options[format_dropdown.selectedIndex].value;\n",
       "        this.ondownload(this, format);\n",
       "    } else {\n",
       "        this.send_message(\"toolbar_button\", {name: name});\n",
       "    }\n",
       "};\n",
       "\n",
       "mpl.figure.prototype.toolbar_button_onmouseover = function(tooltip) {\n",
       "    this.message.textContent = tooltip;\n",
       "};\n",
       "\n",
       "mpl.debounce_event = function(func, time){\n",
       "    var timer;\n",
       "    return function(event){\n",
       "        clearTimeout(timer);\n",
       "        timer = setTimeout(function(){ func(event); }, time);\n",
       "    };\n",
       "}\n",
       "\n",
       "mpl.debounce_resize = function(func, time){\n",
       "    var timer;\n",
       "    return function(event, ui){\n",
       "        clearTimeout(timer);\n",
       "        timer = setTimeout(function(){ func(event, ui); }, time);\n",
       "    };\n",
       "}\n",
       "mpl.toolbar_items = [[\"Home\", \"Reset original view\", \"fa fa-home icon-home\", \"home\"], [\"Back\", \"Back to  previous view\", \"fa fa-arrow-left icon-arrow-left\", \"back\"], [\"Forward\", \"Forward to next view\", \"fa fa-arrow-right icon-arrow-right\", \"forward\"], [\"\", \"\", \"\", \"\"], [\"Pan\", \"Pan axes with left mouse, zoom with right\", \"fa fa-arrows icon-move\", \"pan\"], [\"Zoom\", \"Zoom to rectangle\", \"fa fa-square-o icon-check-empty\", \"zoom\"], [\"\", \"\", \"\", \"\"]];\n",
       "\n",
       "mpl.extensions = [\"eps\", \"jpeg\", \"pgf\", \"pdf\", \"png\", \"ps\", \"raw\", \"svg\", \"tif\"];\n",
       "\n",
       "mpl.default_extension = \"png\";var comm_websocket_adapter = function(comm) {\n",
       "    // Create a \"websocket\"-like object which calls the given IPython comm\n",
       "    // object with the appropriate methods. Currently this is a non binary\n",
       "    // socket, so there is still some room for performance tuning.\n",
       "    var ws = {};\n",
       "\n",
       "    ws.close = function() {\n",
       "        comm.close()\n",
       "    };\n",
       "    ws.send = function(m) {\n",
       "        //console.log('sending', m);\n",
       "        comm.send(m);\n",
       "    };\n",
       "    // Register the callback with on_msg.\n",
       "    comm.on_msg(function(msg) {\n",
       "        //console.log('receiving', msg['content']['data'], msg);\n",
       "        // Pass the mpl event to the overriden (by mpl) onmessage function.\n",
       "        ws.onmessage(msg['content']['data'])\n",
       "    });\n",
       "    return ws;\n",
       "}\n",
       "\n",
       "mpl.mpl_figure_comm = function(comm, msg) {\n",
       "    // This is the function which gets called when the mpl process\n",
       "    // starts-up an IPython Comm through the \"matplotlib\" channel.\n",
       "\n",
       "    var id = msg.content.data.id;\n",
       "    // Get hold of the div created by the display call when the Comm\n",
       "    // socket was opened in Python.\n",
       "    var element = $(\"#\" + id);\n",
       "    var ws_proxy = comm_websocket_adapter(comm)\n",
       "\n",
       "    var fig = new mpl.figure(id, ws_proxy,\n",
       "                           function() { },\n",
       "                           element.get(0));\n",
       "\n",
       "    // Call onopen now - mpl needs it, as it is assuming we've passed it a real\n",
       "    // web socket which is closed, not our websocket->open comm proxy.\n",
       "    ws_proxy.onopen();\n",
       "\n",
       "    fig.parent_element = element.get(0);\n",
       "    fig.cell_info = mpl.find_output_cell(\"<div id='\" + id + \"'></div>\");\n",
       "\n",
       "    var output_index = fig.cell_info[2]\n",
       "    var cell = fig.cell_info[0];\n",
       "\n",
       "    // Disable right mouse context menu.\n",
       "    $(fig.rubberband_canvas).bind(\"contextmenu\",function(e){\n",
       "        return false;\n",
       "    });\n",
       "\n",
       "};\n",
       "\n",
       "mpl.figure.prototype.handle_close = function(fig, msg) {\n",
       "    // Update the output cell to use the data from the current canvas.\n",
       "    fig.push_to_output();\n",
       "    var dataURL = fig.canvas.toDataURL();\n",
       "    // Re-enable the keyboard manager in IPython - without this line, in FF,\n",
       "    // the notebook keyboard shortcuts fail.\n",
       "    IPython.keyboard_manager.enable()\n",
       "    $(fig.parent_element).html('<img src=\"' + dataURL + '\">');\n",
       "    fig.send_message('closing', {});\n",
       "    fig.ws.close()\n",
       "}\n",
       "\n",
       "mpl.figure.prototype.push_to_output = function(remove_interactive) {\n",
       "    // Turn the data on the canvas into data in the output cell.\n",
       "    var dataURL = this.canvas.toDataURL();\n",
       "    this.cell_info[1]['text/html'] = '<img src=\"' + dataURL + '\">';\n",
       "}\n",
       "\n",
       "mpl.figure.prototype.updated_canvas_event = function() {\n",
       "    // Tell IPython that the notebook contents must change.\n",
       "    IPython.notebook.set_dirty(true);\n",
       "    this.send_message(\"ack\", {});\n",
       "    var fig = this;\n",
       "    // Wait a second, then push the new image to the DOM so\n",
       "    // that it is saved nicely (might be nice to debounce this).\n",
       "    setTimeout(function () { fig.push_to_output() }, 1000);\n",
       "}\n",
       "\n",
       "mpl.figure.prototype._init_toolbar = function() {\n",
       "    var fig = this;\n",
       "\n",
       "    var nav_element = $('<div/>')\n",
       "    nav_element.attr('style', 'width: 100%');\n",
       "    this.root.append(nav_element);\n",
       "\n",
       "    // Define a callback function for later on.\n",
       "    function toolbar_event(event) {\n",
       "        return fig.toolbar_button_onclick(event['data']);\n",
       "    }\n",
       "    function toolbar_mouse_event(event) {\n",
       "        return fig.toolbar_button_onmouseover(event['data']);\n",
       "    }\n",
       "\n",
       "    for(var toolbar_ind in mpl.toolbar_items){\n",
       "        var name = mpl.toolbar_items[toolbar_ind][0];\n",
       "        var tooltip = mpl.toolbar_items[toolbar_ind][1];\n",
       "        var image = mpl.toolbar_items[toolbar_ind][2];\n",
       "        var method_name = mpl.toolbar_items[toolbar_ind][3];\n",
       "\n",
       "        if (!name) { continue; };\n",
       "\n",
       "        var button = $('<button class=\"btn btn-default\" href=\"#\" title=\"' + name + '\"><i class=\"fa ' + image + ' fa-lg\"></i></button>');\n",
       "        button.click(method_name, toolbar_event);\n",
       "        button.mouseover(tooltip, toolbar_mouse_event);\n",
       "        nav_element.append(button);\n",
       "    }\n",
       "\n",
       "    // Add the status bar.\n",
       "    var status_bar = $('<span class=\"mpl-message\" style=\"text-align:right; float: right;\"/>');\n",
       "    nav_element.append(status_bar);\n",
       "    this.message = status_bar[0];\n",
       "\n",
       "    // Add the close button to the window.\n",
       "    var buttongrp = $('<div class=\"btn-group inline pull-right\"></div>');\n",
       "    var button = $('<button class=\"btn btn-mini btn-danger\" href=\"#\" title=\"Close figure\"><i class=\"fa fa-times icon-remove icon-large\"></i></button>');\n",
       "    button.click(function (evt) { fig.handle_close(fig, {}); } );\n",
       "    button.mouseover('Close figure', toolbar_mouse_event);\n",
       "    buttongrp.append(button);\n",
       "    var titlebar = this.root.find($('.ui-dialog-titlebar'));\n",
       "    titlebar.prepend(buttongrp);\n",
       "}\n",
       "\n",
       "mpl.find_output_cell = function(html_output) {\n",
       "    // Return the cell and output element which can be found *uniquely* in the notebook.\n",
       "    // Note - this is a bit hacky, but it is done because the \"notebook_saving.Notebook\"\n",
       "    // IPython event is triggered only after the cells have been serialised, which for\n",
       "    // our purposes (turning an active figure into a static one), is too late.\n",
       "    var cells = IPython.notebook.get_cells();\n",
       "    var ncells = cells.length;\n",
       "    for (var i=0; i<ncells; i++) {\n",
       "        var cell = cells[i];\n",
       "        if (cell.cell_type == 'code'){\n",
       "            for (var j=0; j<cell.output_area.outputs.length; j++) {\n",
       "                var data = cell.output_area.outputs[j];\n",
       "                if (cell.output_area.outputs[j]['text/html'] == html_output) {\n",
       "                    var output = cell.output_area.outputs[j];\n",
       "                    return [cell, output, j];\n",
       "                }\n",
       "            }\n",
       "        }\n",
       "    }\n",
       "}\n",
       "\n",
       "// Register the function which deals with the matplotlib target/channel.\n",
       "// The kernel may be null if the page has been refreshed.\n",
       "if (IPython.notebook.kernel != null) {\n",
       "    IPython.notebook.kernel.comm_manager.register_target('matplotlib', mpl.mpl_figure_comm);\n",
       "}\n"
      ],
      "text/plain": [
       "<IPython.core.display.Javascript at 0x106ce588>"
      ]
     },
     "metadata": {},
     "output_type": "display_data"
    },
    {
     "data": {
      "text/html": [
       "<img src=\"data:image/png;base64,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\">"
      ],
      "text/plain": [
       "<IPython.core.display.HTML at 0x106ce5f8>"
      ]
     },
     "metadata": {},
     "output_type": "display_data"
    }
   ],
   "source": [
    "def click(event):\n",
    "   #If the left mouse button is pressed: draw an orbit\n",
    "   tb = plt.get_current_fig_manager().toolbar\n",
    "   n=3000\n",
    "    \n",
    "   if event.button==1 and event.inaxes and tb.mode == '':\n",
    "       x,y = event.xdata,event.ydata\n",
    "       pt0=[x,y]\n",
    "       Pts=orbit_stdmap(pt0, n)\n",
    "       plt.scatter(Pts[:,0], Pts[:,1],  s=0.1,  color=colors.next())  \n",
    "       plt.draw()\n",
    "   else:\n",
    "       pass    \n",
    "###################################################################\n",
    "fig = plt.figure(figsize=(6, 4))\n",
    "ax = fig.add_subplot(111)\n",
    "ax.set_axis_bgcolor('#2B2B2B')\n",
    "ax.set_xlim([-0.5, 0.5])\n",
    "ax.set_ylim([-0.5, 1])\n",
    "ax.set_autoscale_on(False)\n",
    "plt.connect('button_press_event',click)\n",
    "plt.show()"
   ]
  },
  {
   "cell_type": "markdown",
   "metadata": {},
   "source": [
    "The  generator of an orbit can be used for plotting a (chaotic) attractor of a discrete dynamical system, that is\n",
    "a set $A\\subset\\mathbb{R}^2$, such that for any point $x_0$ sufficiently close to $A$, the distance\n",
    "between the $n^{th}$ point, $x_n=f^n(x_0)$, of its orbit and $A$ tends to 0, as $n\\to\\infty$."
   ]
  },
  {
   "cell_type": "markdown",
   "metadata": {},
   "source": [
    "### Ikeda Attractor"
   ]
  },
  {
   "cell_type": "markdown",
   "metadata": {},
   "source": [
    "[Ikeda map](http://en.wikipedia.org/wiki/Ikeda_map) is a chaotic map of the two dimensional space $\\mathbb{R}^2$ into itself. Its expression can be summarized\n",
    "in complex plane by $f(z)= A+Bze^{i(C+D/(||z||^2+1)}$. \n",
    "\n",
    "We define the generator function of an orbit of the Ikeda map, corresponding to  particular parameters $A,B,C,D$, for which the map\n",
    "exhibits a chaotic attractor.\n",
    "\n",
    "We plot  a slice into a long orbit, neglecting the first 300 points, to ensure that the remaining points approach the attractor very well."
   ]
  },
  {
   "cell_type": "code",
   "execution_count": 196,
   "metadata": {},
   "outputs": [],
   "source": [
    "%matplotlib inline"
   ]
  },
  {
   "cell_type": "code",
   "execution_count": 197,
   "metadata": {},
   "outputs": [],
   "source": [
    "def gen_Ikeda(z0):\n",
    "    z=z0\n",
    "    while True:\n",
    "        yield z\n",
    "        z=0.97+0.9*z*np.exp(1j*(0.4-6/(np.abs(z)**2+1)))"
   ]
  },
  {
   "cell_type": "code",
   "execution_count": 198,
   "metadata": {},
   "outputs": [],
   "source": [
    "z0=0.0+1j*0\n",
    "gik=gen_Ikeda(z0)\n",
    "aIkeda=np.array([z for z in islice(gik, 300, 20000)])"
   ]
  },
  {
   "cell_type": "code",
   "execution_count": 199,
   "metadata": {},
   "outputs": [
    {
     "data": {
      "text/plain": [
       "<matplotlib.collections.PathCollection at 0x10d66940>"
      ]
     },
     "execution_count": 199,
     "metadata": {},
     "output_type": "execute_result"
    },
    {
     "data": {
      "image/png": "[encoded data removed]",
      "text/plain": [
       "<matplotlib.figure.Figure at 0x10d5d198>"
      ]
     },
     "metadata": {},
     "output_type": "display_data"
    }
   ],
   "source": [
    "fig = plt.figure(figsize=(6, 6))\n",
    "ax = fig.add_subplot(111)\n",
    "\n",
    "plt.scatter(aIkeda.real, aIkeda.imag, color= '#b6212d', s=0.1)   "
   ]
  },
  {
   "cell_type": "markdown",
   "metadata": {},
   "source": [
    "### Generator for an IFS  fractal"
   ]
  },
  {
   "cell_type": "markdown",
   "metadata": {},
   "source": [
    "Generators are also useful for generating points of a fractal set defined by an [IFS](http://en.wikipedia.org/wiki/Iterated_function_system) or an IFS with probabilities, \n",
    "that is a finite number of affine contractions, that are chosen according to an assigned probability.\n",
    "\n"
   ]
  },
  {
   "cell_type": "markdown",
   "metadata": {},
   "source": [
    "An affine map, $\\mathcal{A}$, defined on the two-dimensional plane is defined by a $2\\times 2$ matrix $T$, and  a point  $P(a_0, a_1)$:\n",
    "    \n",
    "  $$\\left[\\begin{array}{c} x\\\\y\\end{array}\\right] \\mapsto P+ T\\left[\\begin{array}{c} x\\\\y\\end{array}\\right]$$ "
   ]
  },
  {
   "cell_type": "markdown",
   "metadata": {},
   "source": [
    "The fractal set defined by an IFS consisting in n affine contractions, $C_0, C_1, \\ldots, C_{n-1}$, is an invariant set $A$ of the IFS, that is:\n",
    "    $$A=\\bigcup_{k=0}^{n-1}C_k(A)$$"
   ]
  },
  {
   "cell_type": "markdown",
   "metadata": {},
   "source": [
    "We give the parameters of a contraction as a `numpy.array` of shape (6,). The first four entries correspond to the matrix $T$, and the last two entries are the coordinates of the point $P$."
   ]
  },
  {
   "cell_type": "markdown",
   "metadata": {},
   "source": [
    "Next we plot a fractal set which is the attractor of an IFS consisting in three contractions with probabilities:"
   ]
  },
  {
   "cell_type": "code",
   "execution_count": 200,
   "metadata": {},
   "outputs": [],
   "source": [
    "C=[np.array([.4398,  .2848,  .007, .4958,   20.27824, 23.51717]),\n",
    "np.array( [-.2303, .7265, .2381 , .0952,   32.82897,  11.46771]),\n",
    "np.array([ -.3898, .5371, .4751, .5017, 15.75347,  -5.22511])]"
   ]
  },
  {
   "cell_type": "code",
   "execution_count": 201,
   "metadata": {},
   "outputs": [],
   "source": [
    "pr=[ .2507,  .2262,  .5231]#probabilities"
   ]
  },
  {
   "cell_type": "markdown",
   "metadata": {},
   "source": [
    "Starting with an initial point `pt0`, one generates the  points $C_{i_{m-1}}\\circ\\cdots \\circ C_{i_0}(pt0)$, $m=\\overline{1,15000}$,\n",
    "where each contraction $C_{i_k}$ is chosen according to the discrete probability distribution on the set of contractions' indices $[0,1,2]$,  of probabilities $pr[0], pr[1], pr[2]$."
   ]
  },
  {
   "cell_type": "code",
   "execution_count": 202,
   "metadata": {},
   "outputs": [],
   "source": [
    "from numpy.random import choice"
   ]
  },
  {
   "cell_type": "code",
   "execution_count": 203,
   "metadata": {},
   "outputs": [],
   "source": [
    "ind=np.arange(3)# indices for the contractions C[0], C[1], C[2]"
   ]
  },
  {
   "cell_type": "code",
   "execution_count": 204,
   "metadata": {},
   "outputs": [],
   "source": [
    "def gen_IFS(pt0):\n",
    "    pt=pt0[:]\n",
    "    while True:\n",
    "        yield pt\n",
    "        i=choice(ind, p=pr)# choose the contraction index  \n",
    "                           \n",
    "        pt=np.dot(C[i][:4].reshape(2,2), pt)+C[i][4:]"
   ]
  },
  {
   "cell_type": "code",
   "execution_count": 205,
   "metadata": {},
   "outputs": [
    {
     "data": {
      "text/plain": [
       "<matplotlib.collections.PathCollection at 0x10ffb438>"
      ]
     },
     "execution_count": 205,
     "metadata": {},
     "output_type": "execute_result"
    },
    {
     "data": {
      "image/png": "[encoded data removed]",
      "text/plain": [
       "<matplotlib.figure.Figure at 0x10d56400>"
      ]
     },
     "metadata": {},
     "output_type": "display_data"
    }
   ],
   "source": [
    "    \n",
    "pt0=np.zeros(2, float)\n",
    "G=gen_IFS(pt0)\n",
    "attractor=np.array([pt  for pt in islice(G, 1000, 15000)])\n",
    "\n",
    "fig = plt.figure(figsize=(6, 6))\n",
    "ax = fig.add_subplot(111)\n",
    "plt.scatter(attractor[:,0], attractor[:,1], color= '#00A300', s=0.1)    "
   ]
  },
  {
   "cell_type": "markdown",
   "metadata": {},
   "source": [
    "Another application of generator functions in the study of discrete dynamical systems can be in the\n",
    "computation of the derivative of the map defining the system, along an orbit, $(x_n)$, that is:\n",
    "    $$Df^n(x_0)=Df(x_{n-1})\\cdots  Df(x_1) Df(x_0)$$\n",
    "   The derivative along a long orbit is needed for  computing the Lyapunov exponent  of that orbit  or in the case of twist maps, such as the standard  map, to derive the stability type of a periodic orbit."
   ]
  },
  {
   "cell_type": "markdown",
   "metadata": {},
   "source": [
    "If `gen_orbit(pt0)` is the generator of an orbit, `jacobian(pt0)` is the matrix representing the derivative\n",
    "`Df(pt0)`, then the generator for the derivative along the orbit starting at `pt0` would be defined as follows:"
   ]
  },
  {
   "cell_type": "code",
   "execution_count": 206,
   "metadata": {},
   "outputs": [],
   "source": [
    "def gen_Deriv(pt0):\n",
    "        J=np.eye(2)\n",
    "        while True: \n",
    "            J=np.dot(jacobian(gen_orbit(pt0).next()),J)\n",
    "            yield J        "
   ]
  },
  {
   "cell_type": "markdown",
   "metadata": {},
   "source": [
    " `islice(gen_Deriv(pt0), n-1, n).next()` is the matrix of the derivative  $Df^n$`(pt0)`."
   ]
  },
  {
   "cell_type": "markdown",
   "metadata": {},
   "source": [
    " 11/26/2014"
   ]
  },
  {
   "cell_type": "code",
   "execution_count": 1,
   "metadata": {},
   "outputs": [
    {
     "data": {
      "text/html": [
       "<style>\n",
       "    /*body {\n",
       "        background-color: #F5F5F5;\n",
       "    }*/\n",
       "    div.cell{\n",
       "        width: 900px;\n",
       "        margin-left: 13% !important;\n",
       "        margin-right: auto;\n",
       "    }\n",
       "    #notebook li { /* More space between bullet points */\n",
       "    margin-top:0.8em;\n",
       "    }\n",
       "\n",
       "    h1 {\n",
       "        font-family: 'Alegreya Sans', sans-serif;\n",
       "    }\n",
       "    .text_cell_render h1 {\n",
       "        font-weight: 200;\n",
       "        font-size: 40pt;\n",
       "        line-height: 100%;\n",
       "        color: rgb(8, 66, 133);\n",
       "        margin-bottom: 0em;\n",
       "        margin-top: 0em;\n",
       "        display: block;\n",
       "    }\n",
       "    h2 {\n",
       "        font-family: 'Fenix', serif;\n",
       "        text-indent:1em;\n",
       "        text-align:center;\n",
       "    }\n",
       "    .text_cell_render h2 {\n",
       "        font-weight: 200;\n",
       "        font-size: 28pt;\n",
       "        line-height: 100%;\n",
       "        color: rgb(8, 66, 133);\n",
       "        margin-bottom: 1.5em;\n",
       "        margin-top: 0.5em;\n",
       "        display: block;\n",
       "    }\n",
       "    h3 {\n",
       "        font-family: 'Fenix', serif;\n",
       "        %margin-top:12px;\n",
       "        %margin-bottom: 3px;\n",
       "    }\n",
       "    .text_cell_render h3 {\n",
       "        font-weight: 300;\n",
       "        font-size: 18pt;\n",
       "        line-height: 100%;\n",
       "        color: rgb(8, 66, 133);\n",
       "        margin-bottom: 0.5em;\n",
       "        margin-top: 2em;\n",
       "        display: block;\n",
       "    }\n",
       "    h4 {\n",
       "        font-family: 'Fenix', serif;\n",
       "    }\n",
       "    .text_cell_render h4 {\n",
       "        font-weight: 300;\n",
       "        font-size: 16pt;\n",
       "        color: rgb(8, 66, 133);\n",
       "        margin-bottom: 0.5em;\n",
       "        margin-top: 0.5em;\n",
       "        display: block;\n",
       "    }\n",
       "    h5 {\n",
       "        font-family: 'Alegreya Sans', sans-serif;\n",
       "    }\n",
       "    .text_cell_render h5 {\n",
       "        font-weight: 300;\n",
       "        font-style: normal;\n",
       "        font-size: 16pt;\n",
       "        margin-bottom: 0em;\n",
       "        margin-top: 1.5em;\n",
       "        display: block;\n",
       "        }\n",
       "    div.text_cell_render{\n",
       "        font-family: 'Alegreya Sans',Computer Modern, \"Helvetica Neue\", Arial, Helvetica, Geneva, sans-serif;\n",
       "        line-height: 145%;\n",
       "        font-size: 130%;\n",
       "        width:900px;\n",
       "        margin-left:auto;\n",
       "        margin-right:auto;\n",
       "        %text-align:justify;\n",
       "        %text-justify:inter-word;\n",
       "    }\n",
       "    \n",
       "    \n",
       "    code{\n",
       "      font-size: 78%;\n",
       "    }\n",
       "    .rendered_html code{\n",
       "        background-color: transparent;\n",
       "        white-space: inherit;   \n",
       "    }\n",
       "    .prompt{\n",
       "        display: None;\n",
       "     }\n",
       "    .rendered_html code{\n",
       "    background-color: transparent;\n",
       "    }\n",
       "\n",
       "    blockquote{\n",
       "      display:block;\n",
       "      background: #f3f3f3;\n",
       "      font-family: \"Open sans\",verdana,arial,sans-serif;\n",
       "      width:610px;\n",
       "      padding: 15px 15px 15px 15px;\n",
       "      text-align:justify;\n",
       "      text-justify:inter-word;\n",
       "      }\n",
       "      blockquote p {\n",
       "        margin-bottom: 0;\n",
       "        line-height: 125%;\n",
       "        font-size: 100%;\n",
       "      }\n",
       "   /* element.style {\n",
       "    } */\n",
       "</style>\n",
       "<script>\n",
       "    MathJax.Hub.Config({\n",
       "                        TeX: {\n",
       "                           extensions: [\"AMSmath.js\"]\n",
       "                           },\n",
       "                tex2jax: {\n",
       "                    inlineMath: [ [\"$\",\"$\"], [\"\\\\(\",\"\\\\)\"] ],\n",
       "                    displayMath: [ [\"$$\",\"$$\"], [\"\\\\[\",\"\\\\]\"] ]\n",
       "                },\n",
       "                displayAlign: \"center\", // Change this to \"center\" to center equations.\n",
       "                \"HTML-CSS\": {\n",
       "                    styles: {\".MathJax_Display\": {\"margin\": 4}}\n",
       "                }\n",
       "        });\n",
       "</script>\n"
      ],
      "text/plain": [
       "<IPython.core.display.HTML object>"
      ]
     },
     "execution_count": 1,
     "metadata": {},
     "output_type": "execute_result"
    }
   ],
   "source": [
    "from IPython.core.display import HTML\n",
    "def  css_styling():\n",
    "    styles = open(\"./custom.css\", \"r\").read()\n",
    "    return HTML(styles)\n",
    "css_styling()"
   ]
  }
 ],
 "metadata": {
  "kernelspec": {
   "display_name": "Python [default]",
   "language": "python",
   "name": "python2"
  },
  "language_info": {
   "codemirror_mode": {
    "name": "ipython",
    "version": 2
   },
   "file_extension": ".py",
   "mimetype": "text/x-python",
   "name": "python",
   "nbconvert_exporter": "python",
   "pygments_lexer": "ipython2",
   "version": "2.7.13"
  }
 },
 "nbformat": 4,
 "nbformat_minor": 1
}
